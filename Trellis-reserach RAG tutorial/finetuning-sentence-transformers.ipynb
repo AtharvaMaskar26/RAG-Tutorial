{
 "cells": [
  {
   "cell_type": "code",
   "execution_count": 1,
   "metadata": {},
   "outputs": [],
   "source": [
    "# 1. For every chunk generate 5 questions that answer the chunk. \n",
    "    # - set the temperature near 1 and make sure to provide context about the organization\n",
    "# 2. For each question answer chunk return relevance score. \n",
    "    # Carefully consider the relevance of the snippet to the question, and provide a score from 1 to 5, where 1 is the least relevant and 5 is the most relevant. Use the full range of scores to indicate the degree of relevance\n",
    "    # Relevance score:"
   ]
  },
  {
   "cell_type": "code",
   "execution_count": null,
   "metadata": {},
   "outputs": [],
   "source": [
    "# Bi-Encoders are faster but a bit less accurate\n",
    "# Cross encoders are slower but  more accurate"
   ]
  },
  {
   "cell_type": "code",
   "execution_count": null,
   "metadata": {},
   "outputs": [],
   "source": [
    "# Tips:\n",
    "\n",
    "# 1. Start with BM25 and similarity\n",
    "# 2. Then train your similarity model\n",
    "# 3. Only then consider adding re-rankers (cross-encoders or LLM) coz theyre slow"
   ]
  }
 ],
 "metadata": {
  "kernelspec": {
   "display_name": ".venv",
   "language": "python",
   "name": "python3"
  },
  "language_info": {
   "codemirror_mode": {
    "name": "ipython",
    "version": 3
   },
   "file_extension": ".py",
   "mimetype": "text/x-python",
   "name": "python",
   "nbconvert_exporter": "python",
   "pygments_lexer": "ipython3",
   "version": "3.12.7"
  }
 },
 "nbformat": 4,
 "nbformat_minor": 2
}
